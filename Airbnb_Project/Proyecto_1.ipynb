{
  "nbformat": 4,
  "nbformat_minor": 0,
  "metadata": {
    "colab": {
      "provenance": []
    },
    "kernelspec": {
      "name": "python3",
      "display_name": "Python 3"
    },
    "language_info": {
      "name": "python"
    }
  },
  "cells": [
    {
      "cell_type": "markdown",
      "source": [
        "**EXPLORACIÓN DE LA TENDENCIA DE MERCADO DE AIRBNB**"
      ],
      "metadata": {
        "id": "9GaIjnkRJz8Q"
      }
    },
    {
      "cell_type": "code",
      "execution_count": 2,
      "metadata": {
        "id": "hJKTOZ5LJBzd"
      },
      "outputs": [],
      "source": [
        "#importar librerías\n",
        "import pandas as pd"
      ]
    },
    {
      "cell_type": "code",
      "source": [
        "#cargar los archivos\n",
        "df_review = pd.read_csv('/content/airbnb_last_review.tsv', sep = '\\t')\n",
        "df_price = pd.read_csv('/content/airbnb_price.csv')\n",
        "df_room_type = pd.read_excel('/content/airbnb_room_type.xlsx')\n",
        "\n",
        "#imprimir las 5 primeras filas\n",
        "print(df_review.head())\n",
        "print(df_price.head())\n",
        "print(df_room_type.head())"
      ],
      "metadata": {
        "colab": {
          "base_uri": "https://localhost:8080/"
        },
        "id": "vR5PcRglYEjs",
        "outputId": "f16ecf46-b27f-4694-daa1-40f9b8095001"
      },
      "execution_count": 16,
      "outputs": [
        {
          "output_type": "stream",
          "name": "stdout",
          "text": [
            "   listing_id    host_name   last_review\n",
            "0        2595     Jennifer   May 21 2019\n",
            "1        3831  LisaRoxanne  July 05 2019\n",
            "2        5099        Chris  June 22 2019\n",
            "3        5178     Shunichi  June 24 2019\n",
            "4        5238          Ben  June 09 2019\n",
            "   listing_id        price                nbhood_full\n",
            "0        2595  225 dollars         Manhattan, Midtown\n",
            "1        3831   89 dollars     Brooklyn, Clinton Hill\n",
            "2        5099  200 dollars     Manhattan, Murray Hill\n",
            "3        5178   79 dollars  Manhattan, Hell's Kitchen\n",
            "4        5238  150 dollars       Manhattan, Chinatown\n",
            "   listing_id                                description        room_type\n",
            "0        2595                      Skylit Midtown Castle  Entire home/apt\n",
            "1        3831            Cozy Entire Floor of Brownstone  Entire home/apt\n",
            "2        5099  Large Cozy 1 BR Apartment In Midtown East  Entire home/apt\n",
            "3        5178            Large Furnished Room Near B'way     private room\n",
            "4        5238         Cute & Cozy Lower East Side 1 bdrm  Entire home/apt\n"
          ]
        }
      ]
    },
    {
      "cell_type": "code",
      "source": [
        "#unir los archivos en un df\n",
        "\n",
        "df_airbnb = pd.merge(df_review, df_price, on = 'listing_id', how = 'inner')\n",
        "df_airbnb = pd.merge(df_airbnb, df_room_type, on = 'listing_id', how = 'inner')\n",
        "\n",
        "df_airbnb.head()"
      ],
      "metadata": {
        "colab": {
          "base_uri": "https://localhost:8080/",
          "height": 206
        },
        "id": "1fqj6tTNZC7-",
        "outputId": "482ccc77-fda7-45cc-ff21-04ae9d276661"
      },
      "execution_count": 17,
      "outputs": [
        {
          "output_type": "execute_result",
          "data": {
            "text/plain": [
              "   listing_id    host_name   last_review        price  \\\n",
              "0        2595     Jennifer   May 21 2019  225 dollars   \n",
              "1        3831  LisaRoxanne  July 05 2019   89 dollars   \n",
              "2        5099        Chris  June 22 2019  200 dollars   \n",
              "3        5178     Shunichi  June 24 2019   79 dollars   \n",
              "4        5238          Ben  June 09 2019  150 dollars   \n",
              "\n",
              "                 nbhood_full                                description  \\\n",
              "0         Manhattan, Midtown                      Skylit Midtown Castle   \n",
              "1     Brooklyn, Clinton Hill            Cozy Entire Floor of Brownstone   \n",
              "2     Manhattan, Murray Hill  Large Cozy 1 BR Apartment In Midtown East   \n",
              "3  Manhattan, Hell's Kitchen            Large Furnished Room Near B'way   \n",
              "4       Manhattan, Chinatown         Cute & Cozy Lower East Side 1 bdrm   \n",
              "\n",
              "         room_type  \n",
              "0  Entire home/apt  \n",
              "1  Entire home/apt  \n",
              "2  Entire home/apt  \n",
              "3     private room  \n",
              "4  Entire home/apt  "
            ],
            "text/html": [
              "\n",
              "  <div id=\"df-3426af06-890d-4860-b9e8-277f311ac458\" class=\"colab-df-container\">\n",
              "    <div>\n",
              "<style scoped>\n",
              "    .dataframe tbody tr th:only-of-type {\n",
              "        vertical-align: middle;\n",
              "    }\n",
              "\n",
              "    .dataframe tbody tr th {\n",
              "        vertical-align: top;\n",
              "    }\n",
              "\n",
              "    .dataframe thead th {\n",
              "        text-align: right;\n",
              "    }\n",
              "</style>\n",
              "<table border=\"1\" class=\"dataframe\">\n",
              "  <thead>\n",
              "    <tr style=\"text-align: right;\">\n",
              "      <th></th>\n",
              "      <th>listing_id</th>\n",
              "      <th>host_name</th>\n",
              "      <th>last_review</th>\n",
              "      <th>price</th>\n",
              "      <th>nbhood_full</th>\n",
              "      <th>description</th>\n",
              "      <th>room_type</th>\n",
              "    </tr>\n",
              "  </thead>\n",
              "  <tbody>\n",
              "    <tr>\n",
              "      <th>0</th>\n",
              "      <td>2595</td>\n",
              "      <td>Jennifer</td>\n",
              "      <td>May 21 2019</td>\n",
              "      <td>225 dollars</td>\n",
              "      <td>Manhattan, Midtown</td>\n",
              "      <td>Skylit Midtown Castle</td>\n",
              "      <td>Entire home/apt</td>\n",
              "    </tr>\n",
              "    <tr>\n",
              "      <th>1</th>\n",
              "      <td>3831</td>\n",
              "      <td>LisaRoxanne</td>\n",
              "      <td>July 05 2019</td>\n",
              "      <td>89 dollars</td>\n",
              "      <td>Brooklyn, Clinton Hill</td>\n",
              "      <td>Cozy Entire Floor of Brownstone</td>\n",
              "      <td>Entire home/apt</td>\n",
              "    </tr>\n",
              "    <tr>\n",
              "      <th>2</th>\n",
              "      <td>5099</td>\n",
              "      <td>Chris</td>\n",
              "      <td>June 22 2019</td>\n",
              "      <td>200 dollars</td>\n",
              "      <td>Manhattan, Murray Hill</td>\n",
              "      <td>Large Cozy 1 BR Apartment In Midtown East</td>\n",
              "      <td>Entire home/apt</td>\n",
              "    </tr>\n",
              "    <tr>\n",
              "      <th>3</th>\n",
              "      <td>5178</td>\n",
              "      <td>Shunichi</td>\n",
              "      <td>June 24 2019</td>\n",
              "      <td>79 dollars</td>\n",
              "      <td>Manhattan, Hell's Kitchen</td>\n",
              "      <td>Large Furnished Room Near B'way</td>\n",
              "      <td>private room</td>\n",
              "    </tr>\n",
              "    <tr>\n",
              "      <th>4</th>\n",
              "      <td>5238</td>\n",
              "      <td>Ben</td>\n",
              "      <td>June 09 2019</td>\n",
              "      <td>150 dollars</td>\n",
              "      <td>Manhattan, Chinatown</td>\n",
              "      <td>Cute &amp; Cozy Lower East Side 1 bdrm</td>\n",
              "      <td>Entire home/apt</td>\n",
              "    </tr>\n",
              "  </tbody>\n",
              "</table>\n",
              "</div>\n",
              "    <div class=\"colab-df-buttons\">\n",
              "\n",
              "  <div class=\"colab-df-container\">\n",
              "    <button class=\"colab-df-convert\" onclick=\"convertToInteractive('df-3426af06-890d-4860-b9e8-277f311ac458')\"\n",
              "            title=\"Convert this dataframe to an interactive table.\"\n",
              "            style=\"display:none;\">\n",
              "\n",
              "  <svg xmlns=\"http://www.w3.org/2000/svg\" height=\"24px\" viewBox=\"0 -960 960 960\">\n",
              "    <path d=\"M120-120v-720h720v720H120Zm60-500h600v-160H180v160Zm220 220h160v-160H400v160Zm0 220h160v-160H400v160ZM180-400h160v-160H180v160Zm440 0h160v-160H620v160ZM180-180h160v-160H180v160Zm440 0h160v-160H620v160Z\"/>\n",
              "  </svg>\n",
              "    </button>\n",
              "\n",
              "  <style>\n",
              "    .colab-df-container {\n",
              "      display:flex;\n",
              "      gap: 12px;\n",
              "    }\n",
              "\n",
              "    .colab-df-convert {\n",
              "      background-color: #E8F0FE;\n",
              "      border: none;\n",
              "      border-radius: 50%;\n",
              "      cursor: pointer;\n",
              "      display: none;\n",
              "      fill: #1967D2;\n",
              "      height: 32px;\n",
              "      padding: 0 0 0 0;\n",
              "      width: 32px;\n",
              "    }\n",
              "\n",
              "    .colab-df-convert:hover {\n",
              "      background-color: #E2EBFA;\n",
              "      box-shadow: 0px 1px 2px rgba(60, 64, 67, 0.3), 0px 1px 3px 1px rgba(60, 64, 67, 0.15);\n",
              "      fill: #174EA6;\n",
              "    }\n",
              "\n",
              "    .colab-df-buttons div {\n",
              "      margin-bottom: 4px;\n",
              "    }\n",
              "\n",
              "    [theme=dark] .colab-df-convert {\n",
              "      background-color: #3B4455;\n",
              "      fill: #D2E3FC;\n",
              "    }\n",
              "\n",
              "    [theme=dark] .colab-df-convert:hover {\n",
              "      background-color: #434B5C;\n",
              "      box-shadow: 0px 1px 3px 1px rgba(0, 0, 0, 0.15);\n",
              "      filter: drop-shadow(0px 1px 2px rgba(0, 0, 0, 0.3));\n",
              "      fill: #FFFFFF;\n",
              "    }\n",
              "  </style>\n",
              "\n",
              "    <script>\n",
              "      const buttonEl =\n",
              "        document.querySelector('#df-3426af06-890d-4860-b9e8-277f311ac458 button.colab-df-convert');\n",
              "      buttonEl.style.display =\n",
              "        google.colab.kernel.accessAllowed ? 'block' : 'none';\n",
              "\n",
              "      async function convertToInteractive(key) {\n",
              "        const element = document.querySelector('#df-3426af06-890d-4860-b9e8-277f311ac458');\n",
              "        const dataTable =\n",
              "          await google.colab.kernel.invokeFunction('convertToInteractive',\n",
              "                                                    [key], {});\n",
              "        if (!dataTable) return;\n",
              "\n",
              "        const docLinkHtml = 'Like what you see? Visit the ' +\n",
              "          '<a target=\"_blank\" href=https://colab.research.google.com/notebooks/data_table.ipynb>data table notebook</a>'\n",
              "          + ' to learn more about interactive tables.';\n",
              "        element.innerHTML = '';\n",
              "        dataTable['output_type'] = 'display_data';\n",
              "        await google.colab.output.renderOutput(dataTable, element);\n",
              "        const docLink = document.createElement('div');\n",
              "        docLink.innerHTML = docLinkHtml;\n",
              "        element.appendChild(docLink);\n",
              "      }\n",
              "    </script>\n",
              "  </div>\n",
              "\n",
              "\n",
              "    <div id=\"df-0a5b5d38-ed1c-442f-9265-632c6d9a34bb\">\n",
              "      <button class=\"colab-df-quickchart\" onclick=\"quickchart('df-0a5b5d38-ed1c-442f-9265-632c6d9a34bb')\"\n",
              "                title=\"Suggest charts\"\n",
              "                style=\"display:none;\">\n",
              "\n",
              "<svg xmlns=\"http://www.w3.org/2000/svg\" height=\"24px\"viewBox=\"0 0 24 24\"\n",
              "     width=\"24px\">\n",
              "    <g>\n",
              "        <path d=\"M19 3H5c-1.1 0-2 .9-2 2v14c0 1.1.9 2 2 2h14c1.1 0 2-.9 2-2V5c0-1.1-.9-2-2-2zM9 17H7v-7h2v7zm4 0h-2V7h2v10zm4 0h-2v-4h2v4z\"/>\n",
              "    </g>\n",
              "</svg>\n",
              "      </button>\n",
              "\n",
              "<style>\n",
              "  .colab-df-quickchart {\n",
              "      --bg-color: #E8F0FE;\n",
              "      --fill-color: #1967D2;\n",
              "      --hover-bg-color: #E2EBFA;\n",
              "      --hover-fill-color: #174EA6;\n",
              "      --disabled-fill-color: #AAA;\n",
              "      --disabled-bg-color: #DDD;\n",
              "  }\n",
              "\n",
              "  [theme=dark] .colab-df-quickchart {\n",
              "      --bg-color: #3B4455;\n",
              "      --fill-color: #D2E3FC;\n",
              "      --hover-bg-color: #434B5C;\n",
              "      --hover-fill-color: #FFFFFF;\n",
              "      --disabled-bg-color: #3B4455;\n",
              "      --disabled-fill-color: #666;\n",
              "  }\n",
              "\n",
              "  .colab-df-quickchart {\n",
              "    background-color: var(--bg-color);\n",
              "    border: none;\n",
              "    border-radius: 50%;\n",
              "    cursor: pointer;\n",
              "    display: none;\n",
              "    fill: var(--fill-color);\n",
              "    height: 32px;\n",
              "    padding: 0;\n",
              "    width: 32px;\n",
              "  }\n",
              "\n",
              "  .colab-df-quickchart:hover {\n",
              "    background-color: var(--hover-bg-color);\n",
              "    box-shadow: 0 1px 2px rgba(60, 64, 67, 0.3), 0 1px 3px 1px rgba(60, 64, 67, 0.15);\n",
              "    fill: var(--button-hover-fill-color);\n",
              "  }\n",
              "\n",
              "  .colab-df-quickchart-complete:disabled,\n",
              "  .colab-df-quickchart-complete:disabled:hover {\n",
              "    background-color: var(--disabled-bg-color);\n",
              "    fill: var(--disabled-fill-color);\n",
              "    box-shadow: none;\n",
              "  }\n",
              "\n",
              "  .colab-df-spinner {\n",
              "    border: 2px solid var(--fill-color);\n",
              "    border-color: transparent;\n",
              "    border-bottom-color: var(--fill-color);\n",
              "    animation:\n",
              "      spin 1s steps(1) infinite;\n",
              "  }\n",
              "\n",
              "  @keyframes spin {\n",
              "    0% {\n",
              "      border-color: transparent;\n",
              "      border-bottom-color: var(--fill-color);\n",
              "      border-left-color: var(--fill-color);\n",
              "    }\n",
              "    20% {\n",
              "      border-color: transparent;\n",
              "      border-left-color: var(--fill-color);\n",
              "      border-top-color: var(--fill-color);\n",
              "    }\n",
              "    30% {\n",
              "      border-color: transparent;\n",
              "      border-left-color: var(--fill-color);\n",
              "      border-top-color: var(--fill-color);\n",
              "      border-right-color: var(--fill-color);\n",
              "    }\n",
              "    40% {\n",
              "      border-color: transparent;\n",
              "      border-right-color: var(--fill-color);\n",
              "      border-top-color: var(--fill-color);\n",
              "    }\n",
              "    60% {\n",
              "      border-color: transparent;\n",
              "      border-right-color: var(--fill-color);\n",
              "    }\n",
              "    80% {\n",
              "      border-color: transparent;\n",
              "      border-right-color: var(--fill-color);\n",
              "      border-bottom-color: var(--fill-color);\n",
              "    }\n",
              "    90% {\n",
              "      border-color: transparent;\n",
              "      border-bottom-color: var(--fill-color);\n",
              "    }\n",
              "  }\n",
              "</style>\n",
              "\n",
              "      <script>\n",
              "        async function quickchart(key) {\n",
              "          const quickchartButtonEl =\n",
              "            document.querySelector('#' + key + ' button');\n",
              "          quickchartButtonEl.disabled = true;  // To prevent multiple clicks.\n",
              "          quickchartButtonEl.classList.add('colab-df-spinner');\n",
              "          try {\n",
              "            const charts = await google.colab.kernel.invokeFunction(\n",
              "                'suggestCharts', [key], {});\n",
              "          } catch (error) {\n",
              "            console.error('Error during call to suggestCharts:', error);\n",
              "          }\n",
              "          quickchartButtonEl.classList.remove('colab-df-spinner');\n",
              "          quickchartButtonEl.classList.add('colab-df-quickchart-complete');\n",
              "        }\n",
              "        (() => {\n",
              "          let quickchartButtonEl =\n",
              "            document.querySelector('#df-0a5b5d38-ed1c-442f-9265-632c6d9a34bb button');\n",
              "          quickchartButtonEl.style.display =\n",
              "            google.colab.kernel.accessAllowed ? 'block' : 'none';\n",
              "        })();\n",
              "      </script>\n",
              "    </div>\n",
              "\n",
              "    </div>\n",
              "  </div>\n"
            ],
            "application/vnd.google.colaboratory.intrinsic+json": {
              "type": "dataframe",
              "variable_name": "df_airbnb",
              "summary": "{\n  \"name\": \"df_airbnb\",\n  \"rows\": 25209,\n  \"fields\": [\n    {\n      \"column\": \"listing_id\",\n      \"properties\": {\n        \"dtype\": \"number\",\n        \"std\": 11029278,\n        \"min\": 2595,\n        \"max\": 36455809,\n        \"num_unique_values\": 25209,\n        \"samples\": [\n          6326410,\n          35611781,\n          29869390\n        ],\n        \"semantic_type\": \"\",\n        \"description\": \"\"\n      }\n    },\n    {\n      \"column\": \"host_name\",\n      \"properties\": {\n        \"dtype\": \"category\",\n        \"num_unique_values\": 7363,\n        \"samples\": [\n          \"Tiarnan\",\n          \"LisaMarie\",\n          \"Maurine\"\n        ],\n        \"semantic_type\": \"\",\n        \"description\": \"\"\n      }\n    },\n    {\n      \"column\": \"last_review\",\n      \"properties\": {\n        \"dtype\": \"object\",\n        \"num_unique_values\": 190,\n        \"samples\": [\n          \"March 03 2019\",\n          \"January 16 2019\",\n          \"May 03 2019\"\n        ],\n        \"semantic_type\": \"\",\n        \"description\": \"\"\n      }\n    },\n    {\n      \"column\": \"price\",\n      \"properties\": {\n        \"dtype\": \"category\",\n        \"num_unique_values\": 536,\n        \"samples\": [\n          \"146 dollars\",\n          \"73 dollars\",\n          \"138 dollars\"\n        ],\n        \"semantic_type\": \"\",\n        \"description\": \"\"\n      }\n    },\n    {\n      \"column\": \"nbhood_full\",\n      \"properties\": {\n        \"dtype\": \"category\",\n        \"num_unique_values\": 217,\n        \"samples\": [\n          \"Queens, Hollis\",\n          \"Queens, Jamaica Hills\",\n          \"Queens, Jamaica Estates\"\n        ],\n        \"semantic_type\": \"\",\n        \"description\": \"\"\n      }\n    },\n    {\n      \"column\": \"description\",\n      \"properties\": {\n        \"dtype\": \"string\",\n        \"num_unique_values\": 24946,\n        \"samples\": [\n          \"Sonder | Stock Exchange | Brilliant 1BR + Laundry\",\n          \"Bohemian Studio Loft in Brooklyn\",\n          \"Private room in quiet West Harlem Upper Manhattan\"\n        ],\n        \"semantic_type\": \"\",\n        \"description\": \"\"\n      }\n    },\n    {\n      \"column\": \"room_type\",\n      \"properties\": {\n        \"dtype\": \"category\",\n        \"num_unique_values\": 9,\n        \"samples\": [\n          \"Shared room\",\n          \"private room\",\n          \"shared room\"\n        ],\n        \"semantic_type\": \"\",\n        \"description\": \"\"\n      }\n    }\n  ]\n}"
            }
          },
          "metadata": {},
          "execution_count": 17
        }
      ]
    },
    {
      "cell_type": "code",
      "source": [
        "#análisis exploratorio de las columnas\n",
        "df_airbnb.info()"
      ],
      "metadata": {
        "colab": {
          "base_uri": "https://localhost:8080/"
        },
        "id": "ZMIO3PlqZ7jg",
        "outputId": "509eb5ac-7445-4ae8-e6d0-4bfb083ba2f7"
      },
      "execution_count": 18,
      "outputs": [
        {
          "output_type": "stream",
          "name": "stdout",
          "text": [
            "<class 'pandas.core.frame.DataFrame'>\n",
            "RangeIndex: 25209 entries, 0 to 25208\n",
            "Data columns (total 7 columns):\n",
            " #   Column       Non-Null Count  Dtype \n",
            "---  ------       --------------  ----- \n",
            " 0   listing_id   25209 non-null  int64 \n",
            " 1   host_name    25201 non-null  object\n",
            " 2   last_review  25209 non-null  object\n",
            " 3   price        25209 non-null  object\n",
            " 4   nbhood_full  25209 non-null  object\n",
            " 5   description  25199 non-null  object\n",
            " 6   room_type    25209 non-null  object\n",
            "dtypes: int64(1), object(6)\n",
            "memory usage: 1.3+ MB\n"
          ]
        }
      ]
    },
    {
      "cell_type": "code",
      "source": [
        "#Transformar la columna last_price a fecha\n",
        "df_airbnb['last_review'] = pd.to_datetime(df_airbnb['last_review'], format = '%B %d %Y')\n",
        "\n",
        "print(df_airbnb.info())"
      ],
      "metadata": {
        "colab": {
          "base_uri": "https://localhost:8080/"
        },
        "id": "pKmk22RQadOA",
        "outputId": "a0cb2199-67cf-46c7-c5b7-849a1e5e115c"
      },
      "execution_count": 19,
      "outputs": [
        {
          "output_type": "stream",
          "name": "stdout",
          "text": [
            "<class 'pandas.core.frame.DataFrame'>\n",
            "RangeIndex: 25209 entries, 0 to 25208\n",
            "Data columns (total 7 columns):\n",
            " #   Column       Non-Null Count  Dtype         \n",
            "---  ------       --------------  -----         \n",
            " 0   listing_id   25209 non-null  int64         \n",
            " 1   host_name    25201 non-null  object        \n",
            " 2   last_review  25209 non-null  datetime64[ns]\n",
            " 3   price        25209 non-null  object        \n",
            " 4   nbhood_full  25209 non-null  object        \n",
            " 5   description  25199 non-null  object        \n",
            " 6   room_type    25209 non-null  object        \n",
            "dtypes: datetime64[ns](1), int64(1), object(5)\n",
            "memory usage: 1.3+ MB\n",
            "None\n"
          ]
        }
      ]
    },
    {
      "cell_type": "code",
      "source": [
        "#Remover la palabra dollars de la columna price\n",
        "df_airbnb['price'] = df_airbnb['price'].astype(str).str.replace(' dollars', '')\n",
        "print(df_airbnb.head())\n",
        "\n",
        "#Transformar la columna price a un float\n",
        "df_airbnb['price'] = df_airbnb['price'].astype(float)\n",
        "print(df_airbnb.info())"
      ],
      "metadata": {
        "colab": {
          "base_uri": "https://localhost:8080/"
        },
        "id": "6HLURmxtbFow",
        "outputId": "42ee14c4-e4df-404d-b906-70e23fa37c99"
      },
      "execution_count": 20,
      "outputs": [
        {
          "output_type": "stream",
          "name": "stdout",
          "text": [
            "   listing_id    host_name last_review price                nbhood_full  \\\n",
            "0        2595     Jennifer  2019-05-21   225         Manhattan, Midtown   \n",
            "1        3831  LisaRoxanne  2019-07-05    89     Brooklyn, Clinton Hill   \n",
            "2        5099        Chris  2019-06-22   200     Manhattan, Murray Hill   \n",
            "3        5178     Shunichi  2019-06-24    79  Manhattan, Hell's Kitchen   \n",
            "4        5238          Ben  2019-06-09   150       Manhattan, Chinatown   \n",
            "\n",
            "                                 description        room_type  \n",
            "0                      Skylit Midtown Castle  Entire home/apt  \n",
            "1            Cozy Entire Floor of Brownstone  Entire home/apt  \n",
            "2  Large Cozy 1 BR Apartment In Midtown East  Entire home/apt  \n",
            "3            Large Furnished Room Near B'way     private room  \n",
            "4         Cute & Cozy Lower East Side 1 bdrm  Entire home/apt  \n",
            "<class 'pandas.core.frame.DataFrame'>\n",
            "RangeIndex: 25209 entries, 0 to 25208\n",
            "Data columns (total 7 columns):\n",
            " #   Column       Non-Null Count  Dtype         \n",
            "---  ------       --------------  -----         \n",
            " 0   listing_id   25209 non-null  int64         \n",
            " 1   host_name    25201 non-null  object        \n",
            " 2   last_review  25209 non-null  datetime64[ns]\n",
            " 3   price        25209 non-null  float64       \n",
            " 4   nbhood_full  25209 non-null  object        \n",
            " 5   description  25199 non-null  object        \n",
            " 6   room_type    25209 non-null  object        \n",
            "dtypes: datetime64[ns](1), float64(1), int64(1), object(4)\n",
            "memory usage: 1.3+ MB\n",
            "None\n"
          ]
        }
      ]
    },
    {
      "cell_type": "code",
      "source": [
        "#explorar la columna room_type\n",
        "#print(df_airbnb.groupby('room_type').count())\n",
        "\n",
        "#Transformar la columna room_type a minúsculas\n",
        "df_airbnb['room_type'] = df_airbnb['room_type'].str.lower()\n",
        "print(df_airbnb.groupby('room_type').count())"
      ],
      "metadata": {
        "colab": {
          "base_uri": "https://localhost:8080/"
        },
        "id": "YxTsE9tmcLCR",
        "outputId": "a99495e9-3572-42d0-9761-bec103e78d8a"
      },
      "execution_count": 22,
      "outputs": [
        {
          "output_type": "stream",
          "name": "stdout",
          "text": [
            "                 listing_id  host_name  last_review  price  nbhood_full  \\\n",
            "room_type                                                                 \n",
            "entire home/apt       13266      13262        13266  13266        13266   \n",
            "private room          11356      11352        11356  11356        11356   \n",
            "shared room             587        587          587    587          587   \n",
            "\n",
            "                 description  \n",
            "room_type                     \n",
            "entire home/apt        13266  \n",
            "private room           11346  \n",
            "shared room              587  \n"
          ]
        }
      ]
    },
    {
      "cell_type": "markdown",
      "source": [
        "**1. Desafio 1: ¿Cuáles son las fechas de las revisiones más antiguas y más recientes? Almacene estos valores como dos variables separadas con los nombres que prefiera.**"
      ],
      "metadata": {
        "id": "4emT0TIkPA6y"
      }
    },
    {
      "cell_type": "code",
      "source": [
        "#Fecha más antigua de la revisión\n",
        "primera_revision = df_airbnb['last_review'].min()\n",
        "print(primera_revision)\n",
        "\n",
        "#Ultima revision\n",
        "ultima_revision = df_airbnb['last_review'].max()\n",
        "print(ultima_revision)"
      ],
      "metadata": {
        "id": "c5PNqQ6TRLHL",
        "colab": {
          "base_uri": "https://localhost:8080/"
        },
        "outputId": "bff25cfb-0831-41f6-e63d-7736ed485ca3"
      },
      "execution_count": 24,
      "outputs": [
        {
          "output_type": "stream",
          "name": "stdout",
          "text": [
            "2019-01-01 00:00:00\n",
            "2019-07-09 00:00:00\n"
          ]
        }
      ]
    },
    {
      "cell_type": "markdown",
      "source": [
        "**2. Desafio 2: ¿Cuántos de los anuncios son habitaciones privadas? Guarda esto en cualquier variable.**"
      ],
      "metadata": {
        "id": "rGZbpyCaPsb2"
      }
    },
    {
      "cell_type": "code",
      "source": [
        "#Cantidad de avitaciones privadas\n",
        "private_room = df_airbnb[df_airbnb['room_type'] == 'private room']['room_type'].value_counts()\n",
        "print(private_room)"
      ],
      "metadata": {
        "id": "UMIH2wJDRM71",
        "colab": {
          "base_uri": "https://localhost:8080/"
        },
        "outputId": "694e7faa-652c-479b-8c4f-f9bdddb6e140"
      },
      "execution_count": 28,
      "outputs": [
        {
          "output_type": "stream",
          "name": "stdout",
          "text": [
            "room_type\n",
            "private room    11356\n",
            "Name: count, dtype: int64\n"
          ]
        }
      ]
    },
    {
      "cell_type": "markdown",
      "source": [
        "**3. Desafio 3: ¿Cuál es el precio medio de venta? Redondea al número más cercano con dos decimales y guárdalo en una variable.**"
      ],
      "metadata": {
        "id": "3D6W6_ZiQ0Od"
      }
    },
    {
      "cell_type": "code",
      "source": [
        "# Promedio del precio de venta de las habitaciones\n",
        "avg_price = round(df_airbnb['price'].mean(), 2)\n",
        "print(avg_price)"
      ],
      "metadata": {
        "id": "kihUgH0hROmg",
        "colab": {
          "base_uri": "https://localhost:8080/"
        },
        "outputId": "37f96909-f568-4bb2-9904-121f02231720"
      },
      "execution_count": 29,
      "outputs": [
        {
          "output_type": "stream",
          "name": "stdout",
          "text": [
            "141.78\n"
          ]
        }
      ]
    },
    {
      "cell_type": "markdown",
      "source": [
        "**Combina las nuevas variables en un DataFrame llamado review_dates con cuatro columnas en el siguiente orden: first_reviewed, last_reviewed, nb_private_rooms y avg_price. El DataFrame solo debe contener una fila de valores.**"
      ],
      "metadata": {
        "id": "LdkJ-G8fQ8bv"
      }
    },
    {
      "cell_type": "code",
      "source": [
        "#crear un dataframe\n",
        "review_dates = pd.DataFrame({\n",
        "    'first_reviewed': primera_revision,\n",
        "    'last_reviewed': ultima_revision,\n",
        "    'nb_private_rooms': private_room.values,\n",
        "    'avg_price': avg_price,\n",
        "\n",
        "})\n",
        "print(review_dates)"
      ],
      "metadata": {
        "colab": {
          "base_uri": "https://localhost:8080/"
        },
        "id": "Ew-MqeOggRnU",
        "outputId": "cc5d5b47-8953-4869-9be7-785eeaabe914"
      },
      "execution_count": 36,
      "outputs": [
        {
          "output_type": "stream",
          "name": "stdout",
          "text": [
            "  first_reviewed last_reviewed  nb_private_rooms  avg_price\n",
            "0     2019-01-01    2019-07-09             11356     141.78\n"
          ]
        }
      ]
    },
    {
      "cell_type": "code",
      "source": [
        "#exportar el df\n",
        "df_airbnb.to_csv('airbnb.csv', index = False)"
      ],
      "metadata": {
        "id": "UZhptW5yhbgm"
      },
      "execution_count": 37,
      "outputs": []
    }
  ]
}